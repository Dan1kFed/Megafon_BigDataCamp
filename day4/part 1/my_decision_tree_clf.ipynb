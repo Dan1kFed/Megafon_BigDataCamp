{
 "cells": [
  {
   "cell_type": "markdown",
   "metadata": {
    "toc": true
   },
   "source": [
    "<h1>Table of Contents<span class=\"tocSkip\"></span></h1>\n",
    "<div class=\"toc\"><ul class=\"toc-item\"><li><span><a href=\"#Подготовка-данных\" data-toc-modified-id=\"Подготовка-данных-1\"><span class=\"toc-item-num\">1&nbsp;&nbsp;</span>Подготовка данных</a></span></li><li><span><a href=\"#Разделение-на-train,-test\" data-toc-modified-id=\"Разделение-на-train,-test-2\"><span class=\"toc-item-num\">2&nbsp;&nbsp;</span>Разделение на train, test</a></span></li><li><span><a href=\"#Fit-MyDecisionTree\" data-toc-modified-id=\"Fit-MyDecisionTree-3\"><span class=\"toc-item-num\">3&nbsp;&nbsp;</span>Fit MyDecisionTree</a></span></li><li><span><a href=\"#Predict-MyDecisionTree\" data-toc-modified-id=\"Predict-MyDecisionTree-4\"><span class=\"toc-item-num\">4&nbsp;&nbsp;</span>Predict MyDecisionTree</a></span></li><li><span><a href=\"#Train-with-sklearn\" data-toc-modified-id=\"Train-with-sklearn-5\"><span class=\"toc-item-num\">5&nbsp;&nbsp;</span>Train with sklearn</a></span></li><li><span><a href=\"#Сравнение-метрик\" data-toc-modified-id=\"Сравнение-метрик-6\"><span class=\"toc-item-num\">6&nbsp;&nbsp;</span>Сравнение метрик</a></span></li></ul></div>"
   ]
  },
  {
   "cell_type": "markdown",
   "metadata": {},
   "source": [
    "# Задание  \n",
    "\n",
    "1. Напишите свой алгоритм построения дерева решений для задачи бинарной классификации.  \n",
    "    - критерий информативности - Энтропия Шеннона\n",
    "    - критерии останова - максимальная глубина, кол-во элементов в листе, прирост энтропии < x\n",
    "2. Сравните результат работы своего алгоритма с sklearn    \n",
    "\n",
    "3. (дополнительно)  Попробуйте не делать One-Hot-Encoding для категориальных переменных, а добавить их обработку в свой алгоритм. Сравните качество работы алгоритма с предыдущим решением."
   ]
  },
  {
   "cell_type": "markdown",
   "metadata": {},
   "source": [
    "## Подготовка данных\n",
    "Рассмотрим задачу \"Титаник\" https://www.kaggle.com/c/titanic/data. Необходимо предсказать выживет пассажир или нет."
   ]
  },
  {
   "cell_type": "code",
   "execution_count": 13,
   "metadata": {},
   "outputs": [
    {
     "name": "stdout",
     "output_type": "stream",
     "text": [
      "Соединение установлено\n"
     ]
    }
   ],
   "source": [
    "import numpy as np\n",
    "import pandas as pd\n",
    "\n",
    "from sklearn.metrics import roc_auc_score, accuracy_score, confusion_matrix \n",
    "\n",
    "#test case\n",
    "# from testerMF.testerMF import Tester \n",
    "# testcase = Tester(userId='F14DM', day='4')"
   ]
  },
  {
   "cell_type": "code",
   "execution_count": 14,
   "metadata": {},
   "outputs": [],
   "source": [
    "# считаем данные из файла в pandas DataFrame\n",
    "df = pd.read_csv(\"train.csv\")\n",
    "\n",
    "# зафиксируем целевую переменную и удалим ее из данных\n",
    "y = df['Survived']\n",
    "df.drop('Survived', axis=1, inplace=True)"
   ]
  },
  {
   "cell_type": "code",
   "execution_count": 15,
   "metadata": {},
   "outputs": [],
   "source": [
    "# удалим признаки PassengerId, Name, Ticket и Cabin из данных\n",
    "df.drop(['PassengerId', 'Name', 'Ticket', 'Cabin'], axis=1, inplace=True)\n",
    "\n",
    "# заполним пропуски в признаке Age обучающей выборки медианным значением\n",
    "df['Age'].fillna(df['Age'].median(), inplace=True)\n",
    "\n",
    "#заполним пропуски в признаке Embarked обучающей выборки самыми частыми значениями этого признака\n",
    "df['Embarked'].fillna(df['Embarked'].value_counts().idxmax(), inplace=True)\n",
    "\n",
    "#заменим категориальные признаки, используя One-Hot-Encoding\n",
    "categorical = ['Pclass', 'Sex', 'SibSp', 'Parch', 'Embarked']\n",
    "df = pd.concat([df, pd.get_dummies(df[categorical], columns=categorical, drop_first=True)],axis=1)\n",
    "\n",
    "df.drop(categorical, axis=1, inplace=True)"
   ]
  },
  {
   "cell_type": "code",
   "execution_count": 16,
   "metadata": {
    "scrolled": true
   },
   "outputs": [
    {
     "data": {
      "text/html": [
       "<div>\n",
       "<style scoped>\n",
       "    .dataframe tbody tr th:only-of-type {\n",
       "        vertical-align: middle;\n",
       "    }\n",
       "\n",
       "    .dataframe tbody tr th {\n",
       "        vertical-align: top;\n",
       "    }\n",
       "\n",
       "    .dataframe thead th {\n",
       "        text-align: right;\n",
       "    }\n",
       "</style>\n",
       "<table border=\"1\" class=\"dataframe\">\n",
       "  <thead>\n",
       "    <tr style=\"text-align: right;\">\n",
       "      <th></th>\n",
       "      <th>Age</th>\n",
       "      <th>Fare</th>\n",
       "      <th>Pclass_2</th>\n",
       "      <th>Pclass_3</th>\n",
       "      <th>Sex_male</th>\n",
       "      <th>SibSp_1</th>\n",
       "      <th>SibSp_2</th>\n",
       "      <th>SibSp_3</th>\n",
       "      <th>SibSp_4</th>\n",
       "      <th>SibSp_5</th>\n",
       "      <th>SibSp_8</th>\n",
       "      <th>Parch_1</th>\n",
       "      <th>Parch_2</th>\n",
       "      <th>Parch_3</th>\n",
       "      <th>Parch_4</th>\n",
       "      <th>Parch_5</th>\n",
       "      <th>Parch_6</th>\n",
       "      <th>Embarked_Q</th>\n",
       "      <th>Embarked_S</th>\n",
       "    </tr>\n",
       "  </thead>\n",
       "  <tbody>\n",
       "    <tr>\n",
       "      <td>0</td>\n",
       "      <td>22.0</td>\n",
       "      <td>7.2500</td>\n",
       "      <td>0</td>\n",
       "      <td>1</td>\n",
       "      <td>1</td>\n",
       "      <td>1</td>\n",
       "      <td>0</td>\n",
       "      <td>0</td>\n",
       "      <td>0</td>\n",
       "      <td>0</td>\n",
       "      <td>0</td>\n",
       "      <td>0</td>\n",
       "      <td>0</td>\n",
       "      <td>0</td>\n",
       "      <td>0</td>\n",
       "      <td>0</td>\n",
       "      <td>0</td>\n",
       "      <td>0</td>\n",
       "      <td>1</td>\n",
       "    </tr>\n",
       "    <tr>\n",
       "      <td>1</td>\n",
       "      <td>38.0</td>\n",
       "      <td>71.2833</td>\n",
       "      <td>0</td>\n",
       "      <td>0</td>\n",
       "      <td>0</td>\n",
       "      <td>1</td>\n",
       "      <td>0</td>\n",
       "      <td>0</td>\n",
       "      <td>0</td>\n",
       "      <td>0</td>\n",
       "      <td>0</td>\n",
       "      <td>0</td>\n",
       "      <td>0</td>\n",
       "      <td>0</td>\n",
       "      <td>0</td>\n",
       "      <td>0</td>\n",
       "      <td>0</td>\n",
       "      <td>0</td>\n",
       "      <td>0</td>\n",
       "    </tr>\n",
       "    <tr>\n",
       "      <td>2</td>\n",
       "      <td>26.0</td>\n",
       "      <td>7.9250</td>\n",
       "      <td>0</td>\n",
       "      <td>1</td>\n",
       "      <td>0</td>\n",
       "      <td>0</td>\n",
       "      <td>0</td>\n",
       "      <td>0</td>\n",
       "      <td>0</td>\n",
       "      <td>0</td>\n",
       "      <td>0</td>\n",
       "      <td>0</td>\n",
       "      <td>0</td>\n",
       "      <td>0</td>\n",
       "      <td>0</td>\n",
       "      <td>0</td>\n",
       "      <td>0</td>\n",
       "      <td>0</td>\n",
       "      <td>1</td>\n",
       "    </tr>\n",
       "    <tr>\n",
       "      <td>3</td>\n",
       "      <td>35.0</td>\n",
       "      <td>53.1000</td>\n",
       "      <td>0</td>\n",
       "      <td>0</td>\n",
       "      <td>0</td>\n",
       "      <td>1</td>\n",
       "      <td>0</td>\n",
       "      <td>0</td>\n",
       "      <td>0</td>\n",
       "      <td>0</td>\n",
       "      <td>0</td>\n",
       "      <td>0</td>\n",
       "      <td>0</td>\n",
       "      <td>0</td>\n",
       "      <td>0</td>\n",
       "      <td>0</td>\n",
       "      <td>0</td>\n",
       "      <td>0</td>\n",
       "      <td>1</td>\n",
       "    </tr>\n",
       "    <tr>\n",
       "      <td>4</td>\n",
       "      <td>35.0</td>\n",
       "      <td>8.0500</td>\n",
       "      <td>0</td>\n",
       "      <td>1</td>\n",
       "      <td>1</td>\n",
       "      <td>0</td>\n",
       "      <td>0</td>\n",
       "      <td>0</td>\n",
       "      <td>0</td>\n",
       "      <td>0</td>\n",
       "      <td>0</td>\n",
       "      <td>0</td>\n",
       "      <td>0</td>\n",
       "      <td>0</td>\n",
       "      <td>0</td>\n",
       "      <td>0</td>\n",
       "      <td>0</td>\n",
       "      <td>0</td>\n",
       "      <td>1</td>\n",
       "    </tr>\n",
       "  </tbody>\n",
       "</table>\n",
       "</div>"
      ],
      "text/plain": [
       "    Age     Fare  Pclass_2  Pclass_3  Sex_male  SibSp_1  SibSp_2  SibSp_3  \\\n",
       "0  22.0   7.2500         0         1         1        1        0        0   \n",
       "1  38.0  71.2833         0         0         0        1        0        0   \n",
       "2  26.0   7.9250         0         1         0        0        0        0   \n",
       "3  35.0  53.1000         0         0         0        1        0        0   \n",
       "4  35.0   8.0500         0         1         1        0        0        0   \n",
       "\n",
       "   SibSp_4  SibSp_5  SibSp_8  Parch_1  Parch_2  Parch_3  Parch_4  Parch_5  \\\n",
       "0        0        0        0        0        0        0        0        0   \n",
       "1        0        0        0        0        0        0        0        0   \n",
       "2        0        0        0        0        0        0        0        0   \n",
       "3        0        0        0        0        0        0        0        0   \n",
       "4        0        0        0        0        0        0        0        0   \n",
       "\n",
       "   Parch_6  Embarked_Q  Embarked_S  \n",
       "0        0           0           1  \n",
       "1        0           0           0  \n",
       "2        0           0           1  \n",
       "3        0           0           1  \n",
       "4        0           0           1  "
      ]
     },
     "execution_count": 16,
     "metadata": {},
     "output_type": "execute_result"
    }
   ],
   "source": [
    "df.head()"
   ]
  },
  {
   "cell_type": "markdown",
   "metadata": {},
   "source": [
    "## Разделение на train, test"
   ]
  },
  {
   "cell_type": "code",
   "execution_count": 7,
   "metadata": {},
   "outputs": [],
   "source": [
    "from sklearn.model_selection import train_test_split\n",
    "\n",
    "X_train, X_test, y_train, y_test = train_test_split(df, y, test_size = 0.1, random_state = 13)"
   ]
  },
  {
   "cell_type": "code",
   "execution_count": 8,
   "metadata": {},
   "outputs": [
    {
     "name": "stdout",
     "output_type": "stream",
     "text": [
      "Train: 801\n",
      "Test: 90\n"
     ]
    }
   ],
   "source": [
    "print ('Train: ' + str(len(X_train)))\n",
    "print ('Test: ' + str(len(X_test)))"
   ]
  },
  {
   "cell_type": "markdown",
   "metadata": {},
   "source": [
    "## Fit MyDecisionTree  \n",
    "Напишите свою функцию построения дерева.\n",
    "\n",
    "Структуру дерева можно задать, например, словарем следующего вида:  \n",
    "```python\n",
    "{'feature_name': 'Age', # название фичи \n",
    "'threshold': 20, # порог разбиения\n",
    "'left': 0,  # ссылка на левое поддерево, задан доминирующий класс\n",
    "'right': 1} # ссылка на правое поддерево, задан доминирующий класс\n",
    "```"
   ]
  },
  {
   "cell_type": "code",
   "execution_count": 20,
   "metadata": {},
   "outputs": [],
   "source": [
    "X_train['trg'] = y_train\n",
    "X_test['trg'] = y_test"
   ]
  },
  {
   "cell_type": "code",
   "execution_count": 63,
   "metadata": {},
   "outputs": [],
   "source": [
    "def get_target(df):\n",
    "    \"\"\"\n",
    "        Функция ищет доминирующий класс во входном DataFrame\n",
    "        Input - DataFrame\n",
    "        Output - 0 или 1\n",
    "        \n",
    "        Например, в исходных данных 490 нулей и 311 единиц.\n",
    "        Функция должна вернуть 0.\n",
    "    \"\"\"\n",
    "\n",
    "    # YOUR CODE HEREmode()\n",
    "    return df['trg'].value_counts().index[0]\n",
    "\n",
    "\n",
    "def get_entropy(target):\n",
    "    \"\"\"\n",
    "        Функция считает энтропию заданного множества.\n",
    "        Input - таргет (тип - pandas.core.series.Series)\n",
    "        \n",
    "        Output - значение энтропии (тип - float)\n",
    "    \"\"\"\n",
    "    # YOUR CODE HERE\n",
    "    cls = set(target)\n",
    "    ps = []\n",
    "    \n",
    "    for cs in cls:\n",
    "        ps.append(len(target[target == cs]) / len(target))\n",
    "    ps = np.array(ps)\n",
    "    entropy = -np.sum(ps * np.log2(ps))\n",
    "    return entropy\n",
    "\n",
    "\n",
    "\n",
    "def feature_separation(df, f_name):\n",
    "    \"\"\"\n",
    "        Функция ищет лучшее разбиение для данной фичи.\n",
    "        Input - df: DataFrame с 2 атрибутами (feature, target), \n",
    "                f_name: название фичи (для которой ищем разбиение)\n",
    "                \n",
    "        Output - прирост энтропии, порог разбиения\n",
    "    \"\"\"\n",
    "    \n",
    "    # YOUR CODE HERE\n",
    "    feature = df[f_name]\n",
    "    ent_b = get_entropy(df['trg'])\n",
    "    \n",
    "    tresh = list(sorted(set(feature)))\n",
    "    treshs = []\n",
    "    treshs.append(tresh[0] - 1)\n",
    "    for i in range(len(tresh) - 1):\n",
    "        treshs.append((tresh[i] + tresh[i + 1]) / 2)\n",
    "    treshs.append(tresh[-1] + 1)\n",
    "    \n",
    "    delta_entropy = -np.inf\n",
    "    threshold = 0\n",
    "    \n",
    "    for t in treshs:\n",
    "        entropy = ent_b - len(df[feature > t]) / len(df) * get_entropy(df[feature > t]['trg']) \\\n",
    "                        - len(df[feature <= t]) / len(df) * get_entropy(df[feature <= t]['trg'])\n",
    "        if entropy > delta_entropy:\n",
    "            delta_entropy = entropy\n",
    "            threshold = t\n",
    "\n",
    "   \n",
    "            \n",
    "    return (delta_entropy, threshold)\n",
    "\n",
    "\n",
    "def best_separation(df):\n",
    "    \"\"\"\n",
    "        Функция выбирает фичу для разбиения, которая даст максимальный прирост энтропии.\n",
    "        Input - исходный DataFrame\n",
    "        \n",
    "        Output - словарь следующиего вида\n",
    "        {'feature_name': sep_feature, 'threshold': threshold, 'groups': groups}\n",
    "        \n",
    "            sep_feature - название фичи для разбиения (тип - String)\n",
    "            threshold - порог разбиения (тип - float)\n",
    "            groups - tuple из двух поддеревьев (df_left, df_right)\n",
    "    \"\"\"\n",
    "    \n",
    "    sep_feature, threshold, groups = None, None, df\n",
    "    all_features = [c for c in df.columns.tolist() if c != 'target']\n",
    "\n",
    "    delta_entropy = -np.inf\n",
    "    threshold = 0\n",
    "    \n",
    "    for f in all_features:\n",
    "        en, tr = feature_separation(df, f)\n",
    "        if en > delta_entropy:\n",
    "            delta_entropy = en\n",
    "            sep_feature = f\n",
    "            treshold = tr\n",
    "            groups = (df[df[sep_feature] <= treshold], df[df[sep_feature] > treshold])\n",
    "        \n",
    "    \n",
    "    return {'feature_name': sep_feature, 'threshold': threshold, 'groups': groups}\n",
    "\n",
    "\n",
    "def split(node, max_depth, depth):\n",
    "    \"\"\"\n",
    "        Рекурсивная функция для построения дерева\n",
    "        Input - node: корень дерева\n",
    "                max_depth: максимальная глубина дерева\n",
    "                depth: текущая глубина дерева\n",
    "    \"\"\"\n",
    "    \n",
    "    df_left, df_right = node['groups']\n",
    "    sep_feature = node['feature_name']\n",
    "    del(node['groups'])\n",
    "    \n",
    "    # проверяем, есть ли разбиение\n",
    "    if len(df_left) == 0 or len(df_right) == 0:\n",
    "        node['left'] = node['right'] = get_target(df_left.append(df_right))\n",
    "        return\n",
    "    \n",
    "    # проверяем максимальную глубину\n",
    "    if depth >= max_depth:\n",
    "        node['left'], node['right'] = get_target(df_left), get_target(df_right)\n",
    "        return\n",
    "    \n",
    "    else:\n",
    "        node['left'] = best_separation(df_left)\n",
    "        split(node['left'], max_depth, depth + 1)\n",
    "\n",
    "        node['right'] = best_separation(df_right)\n",
    "        split(node['right'], max_depth, depth + 1)\n",
    "        \n",
    "        \n",
    "def fit_my_tree(df, max_depth):\n",
    "    \"\"\"\n",
    "        Функция для обучения дерева\n",
    "        Input - df: DataFrame\n",
    "                max_depth: максимальная глубина дерева\n",
    "    \"\"\"    \n",
    "    root = best_separation(df)\n",
    "    split(root, max_depth, 1)\n",
    "\n",
    "    return root"
   ]
  },
  {
   "cell_type": "code",
   "execution_count": 72,
   "metadata": {},
   "outputs": [
    {
     "name": "stdout",
     "output_type": "stream",
     "text": [
      "{'feature_name': 'trg', 'threshold': 0, 'left': {'feature_name': 'Age', 'threshold': 0, 'left': 0, 'right': 0}, 'right': {'feature_name': 'Age', 'threshold': 0, 'left': 1, 'right': 1}}\n"
     ]
    }
   ],
   "source": [
    "my_tree = fit_my_tree(X_train, 3)\n",
    "print(my_tree)"
   ]
  },
  {
   "cell_type": "markdown",
   "metadata": {},
   "source": [
    "## Predict MyDecisionTree  "
   ]
  },
  {
   "cell_type": "code",
   "execution_count": 65,
   "metadata": {},
   "outputs": [],
   "source": [
    "def predict_raw(row, tree):\n",
    "    \"\"\"\n",
    "        Функция предсказывает класс для 1 строки DataFrame.\n",
    "        \n",
    "        Input - row: строка DataFrame\n",
    "                tree: обученное дерево на предыдущем шаге (тип - dict)\n",
    "    \"\"\"    \n",
    "    if row[tree['feature_name']] <= tree['threshold']:\n",
    "        if type(tree['left']) == dict:\n",
    "            return predict_raw(row, tree['left'])\n",
    "        else:\n",
    "            return tree['left']\n",
    "    else:\n",
    "        if type(tree['right']) == dict:\n",
    "            return predict_raw(row, tree['right'])\n",
    "        else:\n",
    "            return tree['right']\n",
    "    \n",
    "    \n",
    "def predict_my_tree(df, tree):\n",
    "    \"\"\"\n",
    "        Функция предсказывает класс для исходного DataFrame.\n",
    "        \n",
    "        Input - df: исходный DataFrame\n",
    "                tree: обученное дерево на предыдущем шаге (тип - dict)\n",
    "                \n",
    "        Output - предсказанные классы (тип - pandas.core.series.Series)\n",
    "    \"\"\"      \n",
    "    predict = pd.Series()   \n",
    "    for index, row in df.iterrows():\n",
    "        prediction = pd.Series(predict_raw(row, my_tree), [index])\n",
    "        predict = predict.append(prediction)    \n",
    "        \n",
    "    return predict"
   ]
  },
  {
   "cell_type": "code",
   "execution_count": 66,
   "metadata": {},
   "outputs": [],
   "source": [
    "my_pred_test = predict_my_tree(X_test, my_tree)\n",
    "my_pred_train = predict_my_tree(X_train, my_tree)"
   ]
  },
  {
   "cell_type": "markdown",
   "metadata": {},
   "source": [
    "## Train with sklearn \n",
    "\n",
    "Обучите дерево, используя библиотеку sklearn. Задайте те же параметры, что и при обучении своего дерева.  \n",
    "\n",
    "Сравните метрики и попробуйте улучшить ваше дерево."
   ]
  },
  {
   "cell_type": "code",
   "execution_count": 67,
   "metadata": {},
   "outputs": [],
   "source": [
    "from sklearn.tree import DecisionTreeClassifier"
   ]
  },
  {
   "cell_type": "code",
   "execution_count": 68,
   "metadata": {},
   "outputs": [],
   "source": [
    "clf_tree = DecisionTreeClassifier(criterion='entropy', max_depth=10, random_state=0)\n",
    "\n",
    "# обучаем дерево\n",
    "clf_tree.fit(X_train, y_train)\n",
    "\n",
    "# предсказание на тестовой и обучающей выборках\n",
    "y_pred_test = clf_tree.predict(X_test)\n",
    "y_pred_train = clf_tree.predict(X_train)"
   ]
  },
  {
   "cell_type": "markdown",
   "metadata": {},
   "source": [
    "## Сравнение метрик"
   ]
  },
  {
   "cell_type": "code",
   "execution_count": 69,
   "metadata": {
    "scrolled": true
   },
   "outputs": [],
   "source": [
    "# метрики при обучении, используя библиотеку sklearn\n",
    "skl_roc_train = roc_auc_score(y_train, y_pred_train)\n",
    "skl_roc_test = roc_auc_score(y_test, y_pred_test)\n",
    "\n",
    "# метрики при обучении, используя собственный алгоритм\n",
    "my_roc_train = roc_auc_score(y_train, my_pred_train)\n",
    "my_roc_test = roc_auc_score(y_test, my_pred_test)"
   ]
  },
  {
   "cell_type": "code",
   "execution_count": 71,
   "metadata": {},
   "outputs": [
    {
     "name": "stdout",
     "output_type": "stream",
     "text": [
      "Решение отправлено на проверку\n",
      "Начало тест кейса, получаем данные...\n",
      "Test Case пройден\n"
     ]
    }
   ],
   "source": [
    "# сделаем проверку\n",
    "assert abs(my_roc_test - 0.6) >= 0.2\n",
    "testcase.sendAssert(part='1', task='1', val=my_roc_test, base = 0.2, clouse = \">=\")"
   ]
  },
  {
   "cell_type": "code",
   "execution_count": null,
   "metadata": {},
   "outputs": [],
   "source": []
  }
 ],
 "metadata": {
  "kernelspec": {
   "display_name": "Python 3",
   "language": "python",
   "name": "python3"
  },
  "language_info": {
   "codemirror_mode": {
    "name": "ipython",
    "version": 3
   },
   "file_extension": ".py",
   "mimetype": "text/x-python",
   "name": "python",
   "nbconvert_exporter": "python",
   "pygments_lexer": "ipython3",
   "version": "3.6.8"
  },
  "toc": {
   "base_numbering": 1,
   "nav_menu": {},
   "number_sections": true,
   "sideBar": true,
   "skip_h1_title": true,
   "title_cell": "Table of Contents",
   "title_sidebar": "Contents",
   "toc_cell": true,
   "toc_position": {},
   "toc_section_display": true,
   "toc_window_display": true
  }
 },
 "nbformat": 4,
 "nbformat_minor": 2
}
