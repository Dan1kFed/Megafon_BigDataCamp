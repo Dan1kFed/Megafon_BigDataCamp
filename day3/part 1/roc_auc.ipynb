{
 "cells": [
  {
   "cell_type": "markdown",
   "metadata": {},
   "source": [
    "# <center>ROC-AUC"
   ]
  },
  {
   "cell_type": "code",
   "execution_count": 22,
   "metadata": {},
   "outputs": [
    {
     "name": "stdout",
     "output_type": "stream",
     "text": [
      "Соединение установлено\n"
     ]
    }
   ],
   "source": [
    "import numpy as np\n",
    "import pandas as pd\n",
    "#from lib import plot_roc_curve\n",
    "\n",
    "%matplotlib inline\n",
    "from matplotlib import pyplot as plt\n",
    "\n",
    "from sklearn.metrics import roc_curve\n",
    "from sklearn.metrics import auc\n",
    "\n",
    "#test case\n",
    "from testerMF.testerMF import Tester \n",
    "testcase = Tester(userId='F14DM', day='3')"
   ]
  },
  {
   "cell_type": "markdown",
   "metadata": {},
   "source": [
    "Функция для построения ROC-кривой"
   ]
  },
  {
   "cell_type": "code",
   "execution_count": 10,
   "metadata": {},
   "outputs": [],
   "source": [
    "def plot_roc_curve(fpr, tpr, model_name=\"\", default_figsize=True):\n",
    "    if default_figsize: plt.figure(figsize=(10, 10))\n",
    "    plt.plot(fpr, tpr, '')\n",
    "    plt.plot([0, 1], [0, 1], 'k--')\n",
    "    plt.axis([0.0, 1.0, 0.0, 1.05])\n",
    "    plt.xlabel('False Positive Rate')\n",
    "    plt.ylabel('True Positive Rate')\n",
    "    plt.title('%s: Receiver operating characteristic curve' % model_name)\n",
    "    plt.legend(loc=\"lower right\")"
   ]
  },
  {
   "cell_type": "markdown",
   "metadata": {},
   "source": [
    "### Цель"
   ]
  },
  {
   "cell_type": "markdown",
   "metadata": {},
   "source": [
    "- Понять что такое ROC-кривая\n",
    "- Понять что такое AUC\n",
    "- Визуализировать результат работы алгоритма\n",
    "- Оценить качество работы алгоритма "
   ]
  },
  {
   "cell_type": "markdown",
   "metadata": {},
   "source": [
    "### Данные"
   ]
  },
  {
   "cell_type": "markdown",
   "metadata": {},
   "source": [
    "Есть тестовый набор данных с оценкой алгоритма бинарной классификации.\n",
    "      \n",
    "- subs_id - id абонента\n",
    "- is_target - фактическое значение класса\n",
    "- score - оценка алгоритма"
   ]
  },
  {
   "cell_type": "code",
   "execution_count": 11,
   "metadata": {},
   "outputs": [
    {
     "data": {
      "text/html": [
       "<div>\n",
       "<style scoped>\n",
       "    .dataframe tbody tr th:only-of-type {\n",
       "        vertical-align: middle;\n",
       "    }\n",
       "\n",
       "    .dataframe tbody tr th {\n",
       "        vertical-align: top;\n",
       "    }\n",
       "\n",
       "    .dataframe thead th {\n",
       "        text-align: right;\n",
       "    }\n",
       "</style>\n",
       "<table border=\"1\" class=\"dataframe\">\n",
       "  <thead>\n",
       "    <tr style=\"text-align: right;\">\n",
       "      <th></th>\n",
       "      <th>SUBS_ID</th>\n",
       "      <th>IS_TARGET</th>\n",
       "      <th>SCORE</th>\n",
       "    </tr>\n",
       "  </thead>\n",
       "  <tbody>\n",
       "    <tr>\n",
       "      <td>0</td>\n",
       "      <td>2707921385</td>\n",
       "      <td>0</td>\n",
       "      <td>0.057832</td>\n",
       "    </tr>\n",
       "    <tr>\n",
       "      <td>1</td>\n",
       "      <td>230830642</td>\n",
       "      <td>0</td>\n",
       "      <td>0.092047</td>\n",
       "    </tr>\n",
       "    <tr>\n",
       "      <td>2</td>\n",
       "      <td>1134585239</td>\n",
       "      <td>0</td>\n",
       "      <td>0.006818</td>\n",
       "    </tr>\n",
       "    <tr>\n",
       "      <td>3</td>\n",
       "      <td>2715966464</td>\n",
       "      <td>0</td>\n",
       "      <td>0.146309</td>\n",
       "    </tr>\n",
       "    <tr>\n",
       "      <td>4</td>\n",
       "      <td>3742818457</td>\n",
       "      <td>0</td>\n",
       "      <td>0.127970</td>\n",
       "    </tr>\n",
       "  </tbody>\n",
       "</table>\n",
       "</div>"
      ],
      "text/plain": [
       "      SUBS_ID  IS_TARGET     SCORE\n",
       "0  2707921385          0  0.057832\n",
       "1   230830642          0  0.092047\n",
       "2  1134585239          0  0.006818\n",
       "3  2715966464          0  0.146309\n",
       "4  3742818457          0  0.127970"
      ]
     },
     "execution_count": 11,
     "metadata": {},
     "output_type": "execute_result"
    }
   ],
   "source": [
    "df = pd.read_csv(\"score_df.csv\", sep=';', decimal =',')\n",
    "df.head()"
   ]
  },
  {
   "cell_type": "code",
   "execution_count": 12,
   "metadata": {},
   "outputs": [
    {
     "name": "stdout",
     "output_type": "stream",
     "text": [
      "<class 'pandas.core.frame.DataFrame'>\n",
      "RangeIndex: 1800000 entries, 0 to 1799999\n",
      "Data columns (total 3 columns):\n",
      "SUBS_ID      int64\n",
      "IS_TARGET    int64\n",
      "SCORE        float64\n",
      "dtypes: float64(1), int64(2)\n",
      "memory usage: 41.2 MB\n"
     ]
    }
   ],
   "source": [
    "df.info()"
   ]
  },
  {
   "cell_type": "code",
   "execution_count": 13,
   "metadata": {},
   "outputs": [],
   "source": [
    "df_target = df['IS_TARGET']\n",
    "df_score = df['SCORE']"
   ]
  },
  {
   "cell_type": "markdown",
   "metadata": {},
   "source": [
    "### Информация"
   ]
  },
  {
   "cell_type": "markdown",
   "metadata": {},
   "source": [
    "Результат работы классификации с двумя классами часто визуализируют с помощью ROC-кривой, которая отображает соотношение между долей верно классифицированных объектов одного класса, и долей ошибочно классифицированных объектов другого класса."
   ]
  },
  {
   "cell_type": "markdown",
   "metadata": {},
   "source": [
    "В библиотеке sklearn уже реализована функция `roc_curve`, которая возвращает:\n",
    "\n",
    "- FPR (False Positive Rate) - процент точек класса 0, которые неверно классифицированы алгоритмом\n",
    "- TPR (True Positive Rate) - процент точек класса 1, которые верно классифицированы алгоритмом\n",
    "- thresholds - пороги, которые использует функция для расчета FPR и TPR"
   ]
  },
  {
   "cell_type": "code",
   "execution_count": 48,
   "metadata": {},
   "outputs": [],
   "source": [
    "fpr, tpr, thresholds = roc_curve(df_target, df_score)"
   ]
  },
  {
   "cell_type": "code",
   "execution_count": 49,
   "metadata": {},
   "outputs": [
    {
     "name": "stderr",
     "output_type": "stream",
     "text": [
      "No handles with labels found to put in legend.\n"
     ]
    },
    {
     "data": {
      "image/png": "[encoded data removed]",
      "text/plain": [
       "<Figure size 432x288 with 1 Axes>"
      ]
     },
     "metadata": {
      "needs_background": "light"
     },
     "output_type": "display_data"
    }
   ],
   "source": [
    "plt.subplot(223)\n",
    "plot_roc_curve(fpr, tpr, \"\", default_figsize=False)"
   ]
  },
  {
   "cell_type": "markdown",
   "metadata": {},
   "source": [
    "Качество работы алгоритма и количественно интерпретировать ROC-кривую можно при помощи AUC (Area Under Curve). \n",
    "\n",
    "AUC - площадь, ограниченная ROC-кривой."
   ]
  },
  {
   "cell_type": "markdown",
   "metadata": {},
   "source": [
    "Функция, которая рассчитывает AUC, также реализована в библиотеке sklearn `auc`"
   ]
  },
  {
   "cell_type": "code",
   "execution_count": 16,
   "metadata": {},
   "outputs": [
    {
     "data": {
      "text/plain": [
       "0.6138431036117282"
      ]
     },
     "execution_count": 16,
     "metadata": {},
     "output_type": "execute_result"
    }
   ],
   "source": [
    "auc(fpr,tpr)"
   ]
  },
  {
   "cell_type": "markdown",
   "metadata": {},
   "source": [
    "### Задача"
   ]
  },
  {
   "cell_type": "markdown",
   "metadata": {},
   "source": [
    "Вам необходимо самим реализовать функцию которая вернет FPR и TPR для разных treshold, чтобы построить ROC-кривую."
   ]
  },
  {
   "cell_type": "code",
   "execution_count": 52,
   "metadata": {},
   "outputs": [],
   "source": [
    "def my_roc_curve(df_target, df_score):\n",
    "    tpr = []\n",
    "    fpr = []\n",
    "    t_num = 100\n",
    "    thresholds = [i / t_num for i in range(t_num)]\n",
    "    for i in thresholds:\n",
    "        tp = df_target[(df_target == (df_score > i)) & (df_target == 1)].shape[0]\n",
    "        tn = df_target[(df_target == (df_score > i)) & (df_target == 0)].shape[0]\n",
    "        fp = df_target[(df_target != (df_score > i)) & (df_target == 0)].shape[0]\n",
    "        fn = df_target[(df_target != (df_score > i)) & (df_target == 1)].shape[0]\n",
    "        \n",
    "            \n",
    "        fpr.append(fp / (fp + tn))\n",
    "        tpr.append(tp / (tp + fn))\n",
    "            \n",
    "        \n",
    "    return fpr, tpr, thresholds"
   ]
  },
  {
   "cell_type": "code",
   "execution_count": 53,
   "metadata": {},
   "outputs": [
    {
     "name": "stderr",
     "output_type": "stream",
     "text": [
      "No handles with labels found to put in legend.\n"
     ]
    },
    {
     "name": "stdout",
     "output_type": "stream",
     "text": [
      "Решение отправлено на проверку\n",
      "Начало тест кейса, получаем данные...\n",
      "Test Case пройден\n"
     ]
    },
    {
     "data": {
      "image/png": "[encoded data removed]",
      "text/plain": [
       "<Figure size 432x288 with 1 Axes>"
      ]
     },
     "metadata": {
      "needs_background": "light"
     },
     "output_type": "display_data"
    }
   ],
   "source": [
    "my_fpr, my_tpr, my_thresholds = my_roc_curve(df_target, df_score)\n",
    "\n",
    "#проверим\n",
    "testcase.isDone(part='1', task='1', func=my_roc_curve(df_target, df_score))\n",
    "\n",
    "\n",
    "plt.subplot(223)\n",
    "plot_roc_curve(my_fpr, my_tpr, \"\", default_figsize=False)"
   ]
  },
  {
   "cell_type": "markdown",
   "metadata": {},
   "source": [
    "Реализуйте функцию, которая посчитает AUC."
   ]
  },
  {
   "cell_type": "code",
   "execution_count": 54,
   "metadata": {},
   "outputs": [],
   "source": [
    "def my_auc(fpr, tpr):\n",
    "    auc = 0\n",
    "    for i in range(1, len(tpr)):\n",
    "        auc += ((fpr[i] - fpr[i-1]) * (tpr[i] + tpr[i-1])) / 2\n",
    "    return auc"
   ]
  },
  {
   "cell_type": "code",
   "execution_count": 55,
   "metadata": {},
   "outputs": [
    {
     "name": "stdout",
     "output_type": "stream",
     "text": [
      "Решение отправлено на проверку\n",
      "Начало тест кейса, получаем данные...\n",
      "Test Case пройден\n",
      "Ваш AUC -  0.6137877438925926\n"
     ]
    }
   ],
   "source": [
    "my_auc = auc(my_fpr,my_tpr)\n",
    "\n",
    "#проверим\n",
    "testcase.sendAssert(part='1', task='2', val = auc(my_fpr,my_tpr), base = 0.61, clouse = \">=\")\n",
    "print('Ваш AUC - ', my_auc )"
   ]
  },
  {
   "cell_type": "code",
   "execution_count": null,
   "metadata": {},
   "outputs": [],
   "source": []
  },
  {
   "cell_type": "code",
   "execution_count": null,
   "metadata": {},
   "outputs": [],
   "source": []
  },
  {
   "cell_type": "code",
   "execution_count": null,
   "metadata": {},
   "outputs": [],
   "source": []
  }
 ],
 "metadata": {
  "kernelspec": {
   "display_name": "Python 3",
   "language": "python",
   "name": "python3"
  },
  "language_info": {
   "codemirror_mode": {
    "name": "ipython",
    "version": 3
   },
   "file_extension": ".py",
   "mimetype": "text/x-python",
   "name": "python",
   "nbconvert_exporter": "python",
   "pygments_lexer": "ipython3",
   "version": "3.6.8"
  },
  "toc": {
   "base_numbering": 1,
   "nav_menu": {},
   "number_sections": true,
   "sideBar": true,
   "skip_h1_title": false,
   "title_cell": "Table of Contents",
   "title_sidebar": "Contents",
   "toc_cell": false,
   "toc_position": {},
   "toc_section_display": true,
   "toc_window_display": false
  }
 },
 "nbformat": 4,
 "nbformat_minor": 2
}
