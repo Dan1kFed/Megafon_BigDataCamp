{
 "cells": [
  {
   "cell_type": "markdown",
   "metadata": {},
   "source": [
    "# День 1 \n",
    "# Python"
   ]
  },
  {
   "cell_type": "markdown",
   "metadata": {},
   "source": [
    "Предлагается решить 7 заданий, общее число баллов: 12 + 3 за доп. вопросы в форме.  \n",
    "Свои ответы занесите в форму по ссылке:  \n",
    "Обязательно укажите свой e-mail.   \n",
    "В этих заданиях необходимо использовать стандартные возможности Python без сторонних библиотек."
   ]
  },
  {
   "cell_type": "code",
   "execution_count": 10,
   "metadata": {},
   "outputs": [
    {
     "name": "stdout",
     "output_type": "stream",
     "text": [
      "Соединение установлено\n"
     ]
    }
   ],
   "source": [
    "YOURID = \"F14DM\"\n",
    "\n",
    "#test case\n",
    "from testerMF.testerMF import Tester \n",
    "testcase = Tester(userId=YOURID , day='1')\n",
    "\n",
    "\n",
    "YOURID\n",
    "SEED = hash(YOURID) "
   ]
  },
  {
   "cell_type": "code",
   "execution_count": 3,
   "metadata": {},
   "outputs": [],
   "source": [
    "import random"
   ]
  },
  {
   "cell_type": "markdown",
   "metadata": {},
   "source": [
    "## Задача 0 (1 балл)"
   ]
  },
  {
   "cell_type": "markdown",
   "metadata": {},
   "source": [
    "Разверните список"
   ]
  },
  {
   "cell_type": "code",
   "execution_count": 5,
   "metadata": {},
   "outputs": [],
   "source": [
    "def task_0(my_list):\n",
    "    return my_list[::-1]"
   ]
  },
  {
   "cell_type": "markdown",
   "metadata": {},
   "source": [
    "Проверка"
   ]
  },
  {
   "cell_type": "code",
   "execution_count": 15,
   "metadata": {},
   "outputs": [
    {
     "name": "stdout",
     "output_type": "stream",
     "text": [
      "Решение отправлено на проверку\n",
      "Начало тест кейса, получаем данные...\n",
      "Test Case пройден\n",
      "Решение отправлено на проверку\n",
      "Начало тест кейса, получаем данные...\n",
      "Test Case пройден\n",
      "Решение отправлено на проверку\n",
      "Начало тест кейса, получаем данные...\n",
      "Test Case пройден\n"
     ]
    }
   ],
   "source": [
    "testcase.sendAssert(part='1', task='1', val=task_0([1, 2, 3, 4, 5]), base = [5, 4, 3, 2, 1], clouse = \"==\")\n",
    "testcase.sendAssert(part='1', task='1', val=task_0([5, 9, -3, 6, 5]), base = [5, 6, -3, 9, 5], clouse = \"==\")\n",
    "testcase.sendAssert(part='1', task='1', val=task_0([]), base = [], clouse = \"==\")"
   ]
  },
  {
   "cell_type": "markdown",
   "metadata": {},
   "source": [
    "Значение для формы"
   ]
  },
  {
   "cell_type": "code",
   "execution_count": 7,
   "metadata": {},
   "outputs": [
    {
     "name": "stdout",
     "output_type": "stream",
     "text": [
      "[464, 3217, 1696, 7419, 6250, 3656, 3508, 8936, 4127, 3967]\n"
     ]
    }
   ],
   "source": [
    "random.seed(SEED)\n",
    "print(task_0(random.sample(range(10000), 10)))"
   ]
  },
  {
   "cell_type": "markdown",
   "metadata": {},
   "source": [
    "## Задача 1 (1 балл)"
   ]
  },
  {
   "cell_type": "markdown",
   "metadata": {},
   "source": [
    "Найдите индекс максимального элемента списка."
   ]
  },
  {
   "cell_type": "code",
   "execution_count": 19,
   "metadata": {},
   "outputs": [],
   "source": [
    "def task_1(my_list):\n",
    "    return my_list.index(max(my_list))"
   ]
  },
  {
   "cell_type": "markdown",
   "metadata": {},
   "source": [
    "Проверка"
   ]
  },
  {
   "cell_type": "code",
   "execution_count": 20,
   "metadata": {},
   "outputs": [
    {
     "name": "stdout",
     "output_type": "stream",
     "text": [
      "Решение отправлено на проверку\n",
      "Начало тест кейса, получаем данные...\n",
      "Test Case пройден\n",
      "Решение отправлено на проверку\n",
      "Начало тест кейса, получаем данные...\n",
      "Test Case пройден\n",
      "Решение отправлено на проверку\n",
      "Начало тест кейса, получаем данные...\n",
      "Test Case пройден\n",
      "Решение отправлено на проверку\n",
      "Начало тест кейса, получаем данные...\n",
      "Test Case пройден\n"
     ]
    }
   ],
   "source": [
    "testcase.sendAssert(part='1', task='2', val=task_1([2, 5, 7, 8, 12, 2, 12, 6]), base = 4, clouse = \"==\")\n",
    "testcase.sendAssert(part='1', task='2', val=task_1([2, 5, 7, 8, 7, 11, 5, 7, 4]), base = 5, clouse = \"==\")\n",
    "testcase.sendAssert(part='1', task='2', val=task_1([4, 0, -1, 3, -10, 3, 1, 11, -100]), base = 7, clouse = \"==\")\n",
    "testcase.sendAssert(part='1', task='2', val=task_1([100, 100, 100]), base = 0, clouse = \"==\")"
   ]
  },
  {
   "cell_type": "markdown",
   "metadata": {},
   "source": [
    "Значение для формы"
   ]
  },
  {
   "cell_type": "code",
   "execution_count": null,
   "metadata": {},
   "outputs": [],
   "source": [
    "random.seed(SEED + 1)\n",
    "print(task_1(random.sample(range(10000), 10)))"
   ]
  },
  {
   "cell_type": "markdown",
   "metadata": {},
   "source": [
    "## Задача 2 (1 балл)"
   ]
  },
  {
   "cell_type": "markdown",
   "metadata": {},
   "source": [
    "Создайте словарь (dict) из списка ключей и значений."
   ]
  },
  {
   "cell_type": "code",
   "execution_count": 12,
   "metadata": {},
   "outputs": [],
   "source": [
    "def task_2(keys, values):\n",
    "    return dict(zip(keys, values))"
   ]
  },
  {
   "cell_type": "code",
   "execution_count": 16,
   "metadata": {},
   "outputs": [
    {
     "name": "stdout",
     "output_type": "stream",
     "text": [
      "Решение отправлено на проверку\n",
      "Начало тест кейса, получаем данные...\n",
      "Test Case пройден\n",
      "Решение отправлено на проверку\n",
      "Начало тест кейса, получаем данные...\n",
      "Test Case пройден\n",
      "Решение отправлено на проверку\n",
      "Начало тест кейса, получаем данные...\n",
      "Test Case пройден\n",
      "Решение отправлено на проверку\n",
      "Начало тест кейса, получаем данные...\n",
      "Test Case пройден\n"
     ]
    }
   ],
   "source": [
    "testcase.sendAssert(part='1', task='3', val=task_2(['a', 'b', 'c'], [1, 2, 3]), base = {'a': 1, 'b': 2, 'c': 3}, clouse = \"==\")\n",
    "testcase.sendAssert(part='1', task='3', val=task_2([2, 1, 4], [2, 4, 5]), base = {2: 2, 1: 4, 4: 5}, clouse = \"==\")\n",
    "testcase.sendAssert(part='1', task='3', val=task_2(['Kate', 'Jane', 'Jess'], [22, 18, 19]), base = {'Kate': 22, 'Jane': 18, 'Jess': 19}, clouse = \"==\")\n",
    "testcase.sendAssert(part='1', task='3', val=task_2(['Kate', 'Jane', 'Jess'], [[100, 200], [300, 100], [600, 100]]), base = {'Kate': [100, 200], 'Jane': [300, 100], 'Jess': [600, 100]}, clouse = \"==\")"
   ]
  },
  {
   "cell_type": "markdown",
   "metadata": {},
   "source": [
    "Значение для формы"
   ]
  },
  {
   "cell_type": "code",
   "execution_count": null,
   "metadata": {},
   "outputs": [],
   "source": [
    "random.seed(SEED + 2)\n",
    "keys = random.sample('0123456789abcdefghijklmnopqrstuvwxyzABCDEFGHIJKLMNOPQRSTUVWXYZ', 10)\n",
    "values = random.sample(range(100), 10)\n",
    "print(task_2(keys, values))"
   ]
  },
  {
   "cell_type": "markdown",
   "metadata": {},
   "source": [
    "## Задача 3 (2 балла)"
   ]
  },
  {
   "cell_type": "markdown",
   "metadata": {},
   "source": [
    "Напишите функцию, которая находит сумму всех элементов строго больших `n`  \n",
    "Используйте функцию `filter`  "
   ]
  },
  {
   "cell_type": "code",
   "execution_count": 17,
   "metadata": {},
   "outputs": [],
   "source": [
    "def task_3(my_list, n):\n",
    "    return sum(filter(lambda x: x > n, my_list))"
   ]
  },
  {
   "cell_type": "markdown",
   "metadata": {},
   "source": [
    "Проверка"
   ]
  },
  {
   "cell_type": "code",
   "execution_count": 18,
   "metadata": {},
   "outputs": [
    {
     "name": "stdout",
     "output_type": "stream",
     "text": [
      "Решение отправлено на проверку\n",
      "Начало тест кейса, получаем данные...\n",
      "Test Case пройден\n",
      "Решение отправлено на проверку\n",
      "Начало тест кейса, получаем данные...\n",
      "Test Case пройден\n",
      "Решение отправлено на проверку\n",
      "Начало тест кейса, получаем данные...\n",
      "Test Case пройден\n",
      "Решение отправлено на проверку\n",
      "Начало тест кейса, получаем данные...\n",
      "Test Case пройден\n"
     ]
    }
   ],
   "source": [
    "testcase.sendAssert(part='1', task='4', val=task_3([1, 2, 3, 4, 4, 3, 2, 1], 3), base = 8, clouse = \"==\")\n",
    "testcase.sendAssert(part='1', task='4', val=task_3([1, 2, 3, 4, 5, 6, 3, 7], 5), base = 13, clouse = \"==\")\n",
    "testcase.sendAssert(part='1', task='4', val=task_3([1, 2, 3, 14, 5, 5, 30, 57], 15), base = 87, clouse = \"==\")\n",
    "testcase.sendAssert(part='1', task='4', val=task_3([4, 6, 7, 1, 4, 0, -1, -10, 3, 6, -1], 100), base = 0, clouse = \"==\")"
   ]
  },
  {
   "cell_type": "markdown",
   "metadata": {},
   "source": [
    "Значение для формы"
   ]
  },
  {
   "cell_type": "code",
   "execution_count": null,
   "metadata": {},
   "outputs": [],
   "source": [
    "random.seed(SEED + 3)\n",
    "print(task_3(random.sample(range(10000), 11), random.choice(range(100))))"
   ]
  },
  {
   "cell_type": "markdown",
   "metadata": {},
   "source": [
    "## Задача 4 (2 балла)"
   ]
  },
  {
   "cell_type": "markdown",
   "metadata": {},
   "source": [
    "Имеется список данных: (имя, пол, возраст, начисления за услуги). Напишите функцию, возвращающую имена 3 мужчин, старше 30, у которых самые большие начсиления в порядке убывания начислений, считаем, что у всех начисления разные."
   ]
  },
  {
   "cell_type": "code",
   "execution_count": 29,
   "metadata": {},
   "outputs": [],
   "source": [
    "def task_4(my_list):\n",
    "    men = sorted((list(filter(lambda x: (x[2] > 30) & (x[1] == 'male'), my_list))))\n",
    "    return men[:3:-1]"
   ]
  },
  {
   "cell_type": "markdown",
   "metadata": {},
   "source": [
    "Проверка"
   ]
  },
  {
   "cell_type": "code",
   "execution_count": 30,
   "metadata": {},
   "outputs": [
    {
     "name": "stdout",
     "output_type": "stream",
     "text": [
      "Решение отправлено на проверку\n",
      "Начало тест кейса, получаем данные...\n",
      "Test Case пройден\n",
      "Решение отправлено на проверку\n",
      "Начало тест кейса, получаем данные...\n",
      "Test Case пройден\n",
      "Решение отправлено на проверку\n",
      "Начало тест кейса, получаем данные...\n",
      "Test Case пройден\n"
     ]
    }
   ],
   "source": [
    "t41 = task_4([('Ivan', 'male', 35, 500), \n",
    "         ('Boris', 'male', 29, 310),\n",
    "         ('Alex', 'male', 34, 300),\n",
    "         ('Andrew', 'male', 27, 400),\n",
    "         ('Maks', 'male', 35, 750), \n",
    "         ('Mari', 'female', 40, 800), \n",
    "         ('Kate', 'female', 50, 370),\n",
    "         ('Lisa', 'female', 26, 350)])\n",
    "\n",
    "t42 = task_4([('Ivan', 'male', 35, 500), \n",
    "         ('Boris', 'male', 39, 750),\n",
    "         ('Alex', 'male', 34, 300),\n",
    "         ('Andrew', 'male', 27, 400),\n",
    "         ('Maks', 'male', 35, 750), \n",
    "         ('Mari', 'female', 40, 800), \n",
    "         ('Kate', 'female', 50, 300),\n",
    "         ('Lisa', 'female', 26, 350)])\n",
    "\n",
    "t43 = task_4([('Ivan', 'male', 25, 500), \n",
    "         ('Olga', 'female', 39, 750),\n",
    "         ('Nina', 'female', 34, 300),\n",
    "         ('Elena', 'female', 27, 400),\n",
    "         ('Maks', 'male', 35, 750), \n",
    "         ('Mari', 'female', 40, 800), \n",
    "         ('Kate', 'female', 50, 300),\n",
    "         ('Lisa', 'female', 26, 350)])\n",
    "\n",
    "testcase.sendAssert(part='1', task='5', val=t41, base = ['Maks', 'Ivan', 'Alex'], clouse = \"==\")\n",
    "testcase.sendAssert(part='1', task='5', val=t42, base = ['Boris', 'Maks', 'Ivan'], clouse = \"==\")\n",
    "testcase.sendAssert(part='1', task='5', val=t43, base = ['Maks'], clouse = \"==\")\n",
    "\n"
   ]
  },
  {
   "cell_type": "markdown",
   "metadata": {},
   "source": [
    "Значение для формы"
   ]
  },
  {
   "cell_type": "code",
   "execution_count": null,
   "metadata": {},
   "outputs": [],
   "source": [
    "random.seed(SEED + 4)\n",
    "k = SEED % 5 + 60\n",
    "names = ['Addison', 'Adrian', 'Ainsley', 'Alex', 'Andy', 'Ari', 'Ash', 'Aspen', 'Aubrey', 'Bailey', 'Bay', 'Blaine', 'Bobbie', 'Brett', 'Brook', 'Caelan', 'Campbell', 'Carroll', 'Charlie', 'Chris', 'Clay', 'Corey', 'Dana', 'Dakota', 'Dale', 'Daryl', 'Devin', 'Dorian', 'Drew', 'Eddie', 'Eli', 'Elliott', 'Frances', 'Frankie', 'Gabriel', 'Glenn', 'Gray', 'Harper', 'Hayden', 'Jamie', 'Jean', 'Jesse', 'Jordan', 'Jules', 'Julian', 'Kaden', 'Kelly', 'Kennedy', 'Lake', 'Logan', 'Max', 'Morgan', 'Pat', 'Peyton', 'Ray', 'Reed', 'Riley', 'River', 'Roan', 'Rudy', 'Ryan', 'Sage', 'Sam', 'Shawn', 'Sean', 'Stevie', 'Tanner', 'Taylor', 'Toby', 'Tyler', 'Val', 'West', 'Winter']\n",
    "gender = ['female', 'male']\n",
    "age = range(18, 100)\n",
    "revenue = range(50, 1000)\n",
    "list(task_4(zip(random.sample(names, k), random.choices(gender, k=k), random.sample(age, k), random.sample(revenue, k))))"
   ]
  },
  {
   "cell_type": "markdown",
   "metadata": {},
   "source": [
    "## Задача 5 (2 балла)"
   ]
  },
  {
   "cell_type": "markdown",
   "metadata": {},
   "source": [
    "Найдите все простые числа не больше n"
   ]
  },
  {
   "cell_type": "code",
   "execution_count": 41,
   "metadata": {},
   "outputs": [],
   "source": [
    "def task_5(n):\n",
    "    return [nums for nums in range(n) if all(nums % y != 0 for y in range(2, nums // 2 + 1))]"
   ]
  },
  {
   "cell_type": "markdown",
   "metadata": {},
   "source": [
    "Проврека"
   ]
  },
  {
   "cell_type": "code",
   "execution_count": 42,
   "metadata": {},
   "outputs": [
    {
     "name": "stdout",
     "output_type": "stream",
     "text": [
      "Решение отправлено на проверку\n",
      "Начало тест кейса, получаем данные...\n",
      "Test Case пройден\n",
      "Решение отправлено на проверку\n",
      "Начало тест кейса, получаем данные...\n",
      "Test Case пройден\n",
      "Решение отправлено на проверку\n",
      "Начало тест кейса, получаем данные...\n",
      "Test Case пройден\n",
      "Решение отправлено на проверку\n",
      "Начало тест кейса, получаем данные...\n",
      "Test Case пройден\n"
     ]
    }
   ],
   "source": [
    "testcase.sendAssert(part='1', task='6', val=task_5(15), base = [2, 3, 5, 7, 11, 13], clouse = \"==\")\n",
    "testcase.sendAssert(part='1', task='6', val=task_5(25), base = [2, 3, 5, 7, 11, 13, 17, 19, 23], clouse = \"==\")\n",
    "testcase.sendAssert(part='1', task='6', val=task_5(5), base = [2, 3, 5], clouse = \"==\")\n",
    "testcase.sendAssert(part='1', task='6', val=task_5(0), base = [], clouse = \"==\")"
   ]
  },
  {
   "cell_type": "markdown",
   "metadata": {},
   "source": [
    "Значения для формы"
   ]
  },
  {
   "cell_type": "code",
   "execution_count": null,
   "metadata": {},
   "outputs": [],
   "source": [
    "random.seed(SEED + 5)\n",
    "random.choice(task_5(random.randint(10, 1000)))"
   ]
  },
  {
   "cell_type": "markdown",
   "metadata": {},
   "source": [
    "## Задача 6 (3 балла)"
   ]
  },
  {
   "cell_type": "markdown",
   "metadata": {},
   "source": [
    "Считайте файл sample.txt, найдите там топ-10 самый популярных слов и запишите результат в файл sample_output.txt так, чтобы каждое слово было записно на отдельной строке в порядке убывания популярности. Пробельные символы и слова короче трех букв учитывать не нужно. \n",
    "\n",
    "Указания:\n",
    "- сначала считайте файл и сформируйте список слов в нижнем регистре не короче трех букв с помощью регулярного выражения\n",
    "- с помощью словаря определите частоту встречаемости слов, тут вам понадобится метод словаря `setdefault`\n",
    "- отсортируйте слова по частоте встречамости \n",
    "- запишите результат в файл и верните список слов из функции"
   ]
  },
  {
   "cell_type": "markdown",
   "metadata": {},
   "source": [
    "В файле `sample_output.txt` будет 10 строк:  \n",
    "  \n",
    "word_1 <--- первая строка    \n",
    "word_2   \n",
    "...  \n",
    "word_10  <--- последняя строка    "
   ]
  },
  {
   "cell_type": "code",
   "execution_count": 3,
   "metadata": {},
   "outputs": [],
   "source": [
    "import re"
   ]
  },
  {
   "cell_type": "code",
   "execution_count": 8,
   "metadata": {},
   "outputs": [],
   "source": [
    "def task_6():\n",
    "    pattern = re.compile('/w{3,}')\n",
    "    with open('sample.txt', 'r', encoding='cp1251') as f:\n",
    "        raws = f.read()\n",
    "    words = re.findall(pattern, raws)\n",
    "    res = dict()\n",
    "    for word in words:\n",
    "        res.setdefault(word, 0)\n",
    "        res[word] += 1\n",
    "    res = list(map(lambda x: x[0], sorted(zip(res.keys(), res.values()), key = lambda x: x[1], reverse = True)))[:10]\n",
    "    with open('sample_output.txt', 'w') as f:\n",
    "        f.write('\\n'.join(map(str, res)))\n",
    "    return res"
   ]
  },
  {
   "cell_type": "code",
   "execution_count": 11,
   "metadata": {},
   "outputs": [
    {
     "name": "stdout",
     "output_type": "stream",
     "text": [
      "Решение отправлено на проверку\n",
      "Начало тест кейса, получаем данные...\n",
      "Test Case пройден\n"
     ]
    }
   ],
   "source": [
    "task_6()\n",
    "testcase.isDone(part='1', task='7', func = task_6)"
   ]
  },
  {
   "cell_type": "markdown",
   "metadata": {},
   "source": [
    "В форму отправьте файл sample_output.txt "
   ]
  }
 ],
 "metadata": {
  "kernelspec": {
   "display_name": "Python 3",
   "language": "python",
   "name": "python3"
  },
  "language_info": {
   "codemirror_mode": {
    "name": "ipython",
    "version": 3
   },
   "file_extension": ".py",
   "mimetype": "text/x-python",
   "name": "python",
   "nbconvert_exporter": "python",
   "pygments_lexer": "ipython3",
   "version": "3.6.8"
  }
 },
 "nbformat": 4,
 "nbformat_minor": 2
}
