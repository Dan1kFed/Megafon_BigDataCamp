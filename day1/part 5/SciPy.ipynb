{
 "cells": [
  {
   "cell_type": "markdown",
   "metadata": {
    "slideshow": {
     "slide_type": "slide"
    }
   },
   "source": [
    "# Обзор библиотеки SciPy\n",
    "[(**Sci**entific **Py**thon)](https://www.scipy.org/)"
   ]
  },
  {
   "cell_type": "markdown",
   "metadata": {
    "slideshow": {
     "slide_type": "subslide"
    }
   },
   "source": [
    "## Содержание\n",
    " * [Особенности](#Особенности)\n",
    " * [Интегрирование](#integr)\n",
    " * [Линейная алгебра](#linalg)\n",
    " * [Оптимизация](#optim)\n",
    " * [Задача линейного программирования](#linprog)\n",
    " * [Задание](#task)"
   ]
  },
  {
   "cell_type": "markdown",
   "metadata": {
    "slideshow": {
     "slide_type": "slide"
    }
   },
   "source": [
    "# Особенности"
   ]
  },
  {
   "cell_type": "markdown",
   "metadata": {
    "slideshow": {
     "slide_type": "subslide"
    }
   },
   "source": [
    "`SciPy` — библиотека с открытым исходным кодом, предназначенная для выполнения научных и инженерных расчётов."
   ]
  },
  {
   "cell_type": "markdown",
   "metadata": {
    "slideshow": {
     "slide_type": "subslide"
    }
   },
   "source": [
    "Возможности:\n",
    "- поиск минимумов и максимумов функций;\n",
    "- вычисление интегралов функций;\n",
    "- поддержка специальных функций;\n",
    "- обработка сигналов;\n",
    "- обработка изображений;\n",
    "- решение обыкновенных дифференциальных уравнений;  \n",
    "    и др."
   ]
  },
  {
   "cell_type": "markdown",
   "metadata": {
    "slideshow": {
     "slide_type": "subslide"
    }
   },
   "source": [
    "Основной структурой данных в `SciPy` является многомерный массив, реализованный модулем `NumPy`."
   ]
  },
  {
   "cell_type": "markdown",
   "metadata": {
    "slideshow": {
     "slide_type": "slide"
    }
   },
   "source": [
    "SciPy ключает в себя множество пакетов, но мы рассмотрим только некоторые:\n",
    "- integrate (интегрирование)\n",
    "- linalg (линейная алгебра)\n",
    "- interpolate (инструменты для интерполяции)\n",
    "- optimize (средства оптимизации)"
   ]
  },
  {
   "cell_type": "code",
   "execution_count": 49,
   "metadata": {
    "slideshow": {
     "slide_type": "skip"
    }
   },
   "outputs": [
    {
     "name": "stdout",
     "output_type": "stream",
     "text": [
      "Соединение установлено\n"
     ]
    }
   ],
   "source": [
    "import numpy as np\n",
    "import matplotlib.pyplot as plt\n",
    "\n",
    "YOURID = 'F14DM'\n",
    "\n",
    "from testerMF.testerMF import Tester \n",
    "testcase = Tester(userId=YOURID , day='1')\n",
    "\n",
    "%matplotlib inline"
   ]
  },
  {
   "cell_type": "markdown",
   "metadata": {
    "slideshow": {
     "slide_type": "slide"
    }
   },
   "source": [
    "# Интегрирование <a class=\"anchor\" id=\"integr\"></a>"
   ]
  },
  {
   "cell_type": "markdown",
   "metadata": {
    "slideshow": {
     "slide_type": "subslide"
    }
   },
   "source": [
    "Вычислим\n",
    "$$\n",
    "f(x) = \\int_0^4 x^2 dx\n",
    "$$ "
   ]
  },
  {
   "cell_type": "code",
   "execution_count": 17,
   "metadata": {
    "slideshow": {
     "slide_type": "subslide"
    }
   },
   "outputs": [
    {
     "name": "stdout",
     "output_type": "stream",
     "text": [
      "21.333333333333336\n"
     ]
    }
   ],
   "source": [
    "import scipy.integrate\n",
    "\n",
    "f = lambda x: x**2\n",
    "ans, err = scipy.integrate.quad(f, 0, 4)\n",
    "print(ans)"
   ]
  },
  {
   "cell_type": "markdown",
   "metadata": {
    "slideshow": {
     "slide_type": "slide"
    }
   },
   "source": [
    "Вычислим\n",
    "$$\n",
    "f(x, y) = \\int_0^2 \\int_0^1 xy^2 dy dx \n",
    "$$ "
   ]
  },
  {
   "cell_type": "code",
   "execution_count": 18,
   "metadata": {
    "slideshow": {
     "slide_type": "subslide"
    }
   },
   "outputs": [
    {
     "name": "stdout",
     "output_type": "stream",
     "text": [
      "0.6666666666666667\n"
     ]
    }
   ],
   "source": [
    "f = lambda y, x: x*y**2\n",
    "ans, err = scipy.integrate.dblquad(f, 0, 2, lambda x: 0, lambda x: 1)\n",
    "print(ans)"
   ]
  },
  {
   "cell_type": "code",
   "execution_count": 19,
   "metadata": {},
   "outputs": [
    {
     "name": "stdout",
     "output_type": "stream",
     "text": [
      "0.23921284734693232\n"
     ]
    }
   ],
   "source": [
    "f = lambda y, x: 1/(x**2)*(1-y)\n",
    "ans, err = scipy.integrate.dblquad(f, 1, 2, lambda x: 0, lambda x: x**0.5)\n",
    "print(ans)"
   ]
  },
  {
   "cell_type": "markdown",
   "metadata": {
    "slideshow": {
     "slide_type": "slide"
    }
   },
   "source": [
    "# Линейная алгебра <a class=\"anchor\" id=\"linalg\"></a>"
   ]
  },
  {
   "cell_type": "markdown",
   "metadata": {
    "slideshow": {
     "slide_type": "subslide"
    }
   },
   "source": [
    "Линейная алгебра — это раздел математики, изучающий векторы, векторные пространства, линейные преобразования и системы линейных уравнений."
   ]
  },
  {
   "cell_type": "markdown",
   "metadata": {
    "slideshow": {
     "slide_type": "slide"
    }
   },
   "source": [
    "### Собственные числа и собственные векторы\n",
    "Для квадратных матриц определены понятия собственного вектора и собственного числа.\n",
    "\n",
    "Пусть $A$ — квадратная матрица и $A \\in \\mathbb{R}^{n \\times n}$. **Собственным вектором** (eigenvectors) матрицы $A$ называется такой ненулевой вектор $x \\in \\mathbb{R}^{n}$, что для некоторого $\\lambda \\in \\mathbb{R}$ выполняется равенство:   \n",
    "$$Ax = \\lambda x$$\n",
    "При этом $\\lambda$ называется **собственным числом** (eigenvalues) матрицы $A$. \n",
    "Собственные числа и собственные векторы матрицы играют важную роль в теории линейной алгебры и ее практических приложениях.   \n",
    "\n",
    "   "
   ]
  },
  {
   "cell_type": "code",
   "execution_count": 20,
   "metadata": {
    "slideshow": {
     "slide_type": "slide"
    }
   },
   "outputs": [],
   "source": [
    "import scipy.linalg"
   ]
  },
  {
   "cell_type": "code",
   "execution_count": 21,
   "metadata": {
    "slideshow": {
     "slide_type": "subslide"
    }
   },
   "outputs": [
    {
     "name": "stdout",
     "output_type": "stream",
     "text": [
      "[[3 4]\n",
      " [4 3]]\n"
     ]
    }
   ],
   "source": [
    "# симметричная матрица\n",
    "# собственные значения симметричной матрицы - ортогональны\n",
    "m = np.array(\n",
    "    [\n",
    "        [3, 4], \n",
    "        [4, 3]\n",
    "    ]\n",
    ")\n",
    "print(m)"
   ]
  },
  {
   "cell_type": "code",
   "execution_count": 22,
   "metadata": {
    "slideshow": {
     "slide_type": "subslide"
    }
   },
   "outputs": [],
   "source": [
    "# eigenvalues & eigenvectors\n",
    "eigval, eigvect = scipy.linalg.eig(m)"
   ]
  },
  {
   "cell_type": "code",
   "execution_count": 23,
   "metadata": {
    "slideshow": {
     "slide_type": "subslide"
    }
   },
   "outputs": [
    {
     "data": {
      "text/plain": [
       "array([[ 0.70710678, -0.70710678],\n",
       "       [ 0.70710678,  0.70710678]])"
      ]
     },
     "execution_count": 23,
     "metadata": {},
     "output_type": "execute_result"
    }
   ],
   "source": [
    "# собственные векторы по столбцам\n",
    "eigvect"
   ]
  },
  {
   "cell_type": "code",
   "execution_count": 24,
   "metadata": {
    "slideshow": {
     "slide_type": "subslide"
    }
   },
   "outputs": [
    {
     "data": {
      "text/plain": [
       "0.9999999999999999"
      ]
     },
     "execution_count": 24,
     "metadata": {},
     "output_type": "execute_result"
    }
   ],
   "source": [
    "# собсвтенные вектора нормированы\n",
    "scipy.linalg.norm(eigvect[:, 0])"
   ]
  },
  {
   "cell_type": "code",
   "execution_count": 25,
   "metadata": {
    "slideshow": {
     "slide_type": "subslide"
    }
   },
   "outputs": [
    {
     "data": {
      "text/plain": [
       "array([ 7.+0.j, -1.+0.j])"
      ]
     },
     "execution_count": 25,
     "metadata": {},
     "output_type": "execute_result"
    }
   ],
   "source": [
    "eigval"
   ]
  },
  {
   "cell_type": "code",
   "execution_count": 26,
   "metadata": {
    "slideshow": {
     "slide_type": "slide"
    }
   },
   "outputs": [
    {
     "data": {
      "text/plain": [
       "[<matplotlib.lines.Line2D at 0x7f249c973780>]"
      ]
     },
     "execution_count": 26,
     "metadata": {},
     "output_type": "execute_result"
    },
    {
     "data": {
      "image/png": "[encoded data removed]",
      "text/plain": [
       "<Figure size 504x504 with 1 Axes>"
      ]
     },
     "metadata": {
      "needs_background": "light"
     },
     "output_type": "display_data"
    }
   ],
   "source": [
    "# посмотрим что станет с окружностью после линейного преобразования\n",
    "\n",
    "def circle(angle, r=1):\n",
    "    x = r * np.cos(angle)\n",
    "    y = r * np.sin(angle)\n",
    "    return x, y\n",
    "\n",
    "angle = np.linspace(0, 2 * np.pi, 100)\n",
    "x, y = circle(angle)\n",
    "\n",
    "fig = plt.figure(figsize=(7, 7))\n",
    "plt.xlim(-6, 6)\n",
    "plt.ylim(-6, 6)\n",
    "plt.grid(True)\n",
    "vec = np.dot(m,  np.array([x, y]))  # линейное преобразование\n",
    "plt.plot(x, y, color='black')\n",
    "plt.plot(vec[0], vec[1], color='red');\n",
    "plt.plot([0, eigvect[0, 0] * eigval[0].real], [0, eigvect[1, 0] * eigval[0].real]) # первый собственный вектор\n",
    "plt.plot([0, eigvect[0, 1] * eigval[1].real], [0, eigvect[1, 1] * eigval[1].real]) # второй собственный вектор"
   ]
  },
  {
   "cell_type": "markdown",
   "metadata": {
    "slideshow": {
     "slide_type": "slide"
    }
   },
   "source": [
    "### Обратная матрица\n",
    "\n",
    "Для квадратных невырожденных матриц определено понятие **обратной** матрицы. \n",
    "\n",
    "Пусть $A$ — квадратная невырожденная матрица. Матрица $A^{-1}$ называется **обратной матрицей** к $A$, если \n",
    "\n",
    "$$AA^{-1} = A^{-1}A = I,\n",
    "$$ \n",
    "\n",
    "где $I$ — единичная матрица.  "
   ]
  },
  {
   "cell_type": "code",
   "execution_count": 27,
   "metadata": {
    "slideshow": {
     "slide_type": "slide"
    }
   },
   "outputs": [],
   "source": [
    "a = np.array(\n",
    "    [\n",
    "        [1, 2, 1], \n",
    "        [1, 1, 4], \n",
    "        [2, 3, 6]\n",
    "    ]\n",
    ")\n",
    "a_inv = scipy.linalg.inv(a)"
   ]
  },
  {
   "cell_type": "code",
   "execution_count": 28,
   "metadata": {
    "slideshow": {
     "slide_type": "slide"
    }
   },
   "outputs": [
    {
     "name": "stdout",
     "output_type": "stream",
     "text": [
      "[[ 6.  9. -7.]\n",
      " [-2. -4.  3.]\n",
      " [-1. -1.  1.]]\n"
     ]
    }
   ],
   "source": [
    "print(a_inv)"
   ]
  },
  {
   "cell_type": "code",
   "execution_count": 29,
   "metadata": {
    "slideshow": {
     "slide_type": "slide"
    }
   },
   "outputs": [
    {
     "data": {
      "text/plain": [
       "array([[1., 0., 0.],\n",
       "       [0., 1., 0.],\n",
       "       [0., 0., 1.]])"
      ]
     },
     "execution_count": 29,
     "metadata": {},
     "output_type": "execute_result"
    }
   ],
   "source": [
    "np.dot(a, a_inv)"
   ]
  },
  {
   "cell_type": "markdown",
   "metadata": {
    "slideshow": {
     "slide_type": "slide"
    }
   },
   "source": [
    "### Детерминант матрицы\n"
   ]
  },
  {
   "cell_type": "markdown",
   "metadata": {
    "slideshow": {
     "slide_type": "slide"
    }
   },
   "source": [
    "Для матрицы $2 \\times2$\n",
    "$$\n",
    "\\begin{vmatrix}\n",
    "  a & b\\\\\n",
    "  c & d\n",
    "\\end{vmatrix}\n",
    "= ad - bc\n",
    "$$ "
   ]
  },
  {
   "cell_type": "code",
   "execution_count": 30,
   "metadata": {
    "slideshow": {
     "slide_type": "slide"
    }
   },
   "outputs": [
    {
     "data": {
      "text/plain": [
       "-7.0"
      ]
     },
     "execution_count": 30,
     "metadata": {},
     "output_type": "execute_result"
    }
   ],
   "source": [
    "m = np.array(\n",
    "    [\n",
    "        [3, 4], \n",
    "        [4, 3]\n",
    "    ]\n",
    ")\n",
    "\n",
    "scipy.linalg.det(m)"
   ]
  },
  {
   "cell_type": "code",
   "execution_count": 31,
   "metadata": {
    "slideshow": {
     "slide_type": "slide"
    }
   },
   "outputs": [
    {
     "data": {
      "text/plain": [
       "-7"
      ]
     },
     "execution_count": 31,
     "metadata": {},
     "output_type": "execute_result"
    }
   ],
   "source": [
    "m[0, 0] * m[1, 1] - m[1, 0] * m[0, 1]"
   ]
  },
  {
   "cell_type": "code",
   "execution_count": null,
   "metadata": {},
   "outputs": [],
   "source": []
  },
  {
   "cell_type": "code",
   "execution_count": null,
   "metadata": {},
   "outputs": [],
   "source": []
  },
  {
   "cell_type": "markdown",
   "metadata": {
    "slideshow": {
     "slide_type": "slide"
    }
   },
   "source": [
    "### Решение системы линйных алгебраических уравнений (СЛАУ)\n",
    "\n",
    "Общий вид системы линейных алгебраических уравнений:\n",
    "\n",
    "$$\\begin{cases}\n",
    " a_{11}x_{1}+a_{12}x_{2}+\\dots +a_{1n}x_{n}=b_{1}\\\\\n",
    "a_{21}x_{1}+a_{22}x_{2}+\\dots +a_{2n}x_{n}=b_{2}\\\\\n",
    "\\dots \\\\\n",
    "a_{m1}x_{1}+a_{m2}x_{2}+\\dots +a_{mn}x_{n}=b_{m}\\\\\n",
    "\\end{cases}$$\n",
    "\n",
    "Здесь $m$ — количество уравнений, а $n$  — количество переменных, $ x_{1},x_{2},\\dots ,x_{n}$ — неизвестные, которые надо определить, коэффициенты $a_{11},a_{12},\\dots ,a_{mn}$ и свободные члены $b_{1},b_{2},\\dots ,b_{m}$ предполагаются известными.  \n",
    "\n",
    "Система линейных алгебраических уравнений может быть представлена в матричной форме как:\n",
    "\n",
    "$$\\begin{pmatrix}\n",
    "a_{11}&a_{12}&\\cdots &a_{1n}\\\\a_{21}&a_{22}&\\cdots &a_{2n}\\\\\n",
    "\\vdots &\\vdots &\\ddots &\\vdots \\\\\n",
    "a_{m1}&a_{m2}&\\cdots &a_{mn}\n",
    "\\end{pmatrix}\n",
    "\\begin{pmatrix}x_{1}\\\\x_{2}\\\\\\vdots \\\\x_{n}\\end{pmatrix}\n",
    "\\begin{pmatrix}b_{1}\\\\b_{2}\\\\\\vdots \\\\b_{m}\\end{pmatrix}$$\n",
    "или\n",
    "$$Ax = b$$\n",
    "\n",
    "**Критерий совместности СЛАУ (теорема Кронекера — Капелли)**   \n",
    "Система линейных алгебраических уравнений совместна тогда и только тогда, когда ранг её основной матрицы равен рангу её расширенной матрицы, причём система имеет единственное решение, если ранг равен числу неизвестных, и бесконечное множество решений, если ранг меньше числа неизвестных.\n",
    "\n",
    "Ранг - максимальное число линейно независимых строк (столбцов)."
   ]
  },
  {
   "cell_type": "markdown",
   "metadata": {
    "slideshow": {
     "slide_type": "slide"
    }
   },
   "source": [
    "Пример"
   ]
  },
  {
   "cell_type": "markdown",
   "metadata": {
    "slideshow": {
     "slide_type": "slide"
    }
   },
   "source": [
    "$$\\begin{cases}\n",
    "2 x_{1} + 4 x_{2}+ 3 x_{3}=3 \\\\\n",
    "4 x_{1} + 9  x_{2} - x_{3}=6 \\\\\n",
    "3 x_{1} + 6 x_{2} + 2 x_{3}=4.5 \n",
    "\\end{cases}$$"
   ]
  },
  {
   "cell_type": "code",
   "execution_count": 32,
   "metadata": {
    "slideshow": {
     "slide_type": "slide"
    }
   },
   "outputs": [],
   "source": [
    "A = np.array(\n",
    "    [\n",
    "        [2, 4,  3],\n",
    "        [4, 9, -1],\n",
    "        [3, 6,  2]\n",
    "    ]\n",
    ")\n",
    "\n",
    "b = np.array(\n",
    "    [3, 6, 4.5]\n",
    ")"
   ]
  },
  {
   "cell_type": "code",
   "execution_count": 33,
   "metadata": {
    "slideshow": {
     "slide_type": "slide"
    }
   },
   "outputs": [],
   "source": [
    "from numpy.linalg import matrix_rank"
   ]
  },
  {
   "cell_type": "code",
   "execution_count": 34,
   "metadata": {
    "slideshow": {
     "slide_type": "slide"
    }
   },
   "outputs": [
    {
     "data": {
      "text/plain": [
       "True"
      ]
     },
     "execution_count": 34,
     "metadata": {},
     "output_type": "execute_result"
    }
   ],
   "source": [
    "# найдем ранг расширенной матрицы \n",
    "matrix_rank(np.column_stack((A, b))) == matrix_rank(A)"
   ]
  },
  {
   "cell_type": "code",
   "execution_count": 35,
   "metadata": {
    "slideshow": {
     "slide_type": "slide"
    }
   },
   "outputs": [
    {
     "name": "stdout",
     "output_type": "stream",
     "text": [
      "[ 1.5 -0.   0. ]\n"
     ]
    }
   ],
   "source": [
    "x = scipy.linalg.solve(A, b)\n",
    "print(x)"
   ]
  },
  {
   "cell_type": "code",
   "execution_count": 36,
   "metadata": {
    "slideshow": {
     "slide_type": "slide"
    }
   },
   "outputs": [
    {
     "data": {
      "text/plain": [
       "2"
      ]
     },
     "execution_count": 36,
     "metadata": {},
     "output_type": "execute_result"
    }
   ],
   "source": [
    "# Пример с матрицей меньшего ранга\n",
    "A = np.array(\n",
    "    [\n",
    "        [2, 4,  3],\n",
    "        [4, 8, -1],\n",
    "        [3, 6,  2]\n",
    "    ]\n",
    ")\n",
    "matrix_rank(A)"
   ]
  },
  {
   "cell_type": "code",
   "execution_count": 37,
   "metadata": {
    "slideshow": {
     "slide_type": "slide"
    }
   },
   "outputs": [
    {
     "ename": "LinAlgError",
     "evalue": "Matrix is singular.",
     "output_type": "error",
     "traceback": [
      "\u001b[0;31m---------------------------------------------------------------------------\u001b[0m",
      "\u001b[0;31mLinAlgError\u001b[0m                               Traceback (most recent call last)",
      "\u001b[0;32m<ipython-input-37-8e6108c4769a>\u001b[0m in \u001b[0;36m<module>\u001b[0;34m\u001b[0m\n\u001b[0;32m----> 1\u001b[0;31m \u001b[0mx\u001b[0m \u001b[0;34m=\u001b[0m \u001b[0mscipy\u001b[0m\u001b[0;34m.\u001b[0m\u001b[0mlinalg\u001b[0m\u001b[0;34m.\u001b[0m\u001b[0msolve\u001b[0m\u001b[0;34m(\u001b[0m\u001b[0mA\u001b[0m\u001b[0;34m,\u001b[0m \u001b[0mb\u001b[0m\u001b[0;34m)\u001b[0m\u001b[0;34m\u001b[0m\u001b[0;34m\u001b[0m\u001b[0m\n\u001b[0m",
      "\u001b[0;32m/usr/local/lib64/python3.6/site-packages/scipy/linalg/basic.py\u001b[0m in \u001b[0;36msolve\u001b[0;34m(a, b, sym_pos, lower, overwrite_a, overwrite_b, debug, check_finite, assume_a, transposed)\u001b[0m\n\u001b[1;32m    214\u001b[0m                                                (a1, b1))\n\u001b[1;32m    215\u001b[0m         \u001b[0mlu\u001b[0m\u001b[0;34m,\u001b[0m \u001b[0mipvt\u001b[0m\u001b[0;34m,\u001b[0m \u001b[0minfo\u001b[0m \u001b[0;34m=\u001b[0m \u001b[0mgetrf\u001b[0m\u001b[0;34m(\u001b[0m\u001b[0ma1\u001b[0m\u001b[0;34m,\u001b[0m \u001b[0moverwrite_a\u001b[0m\u001b[0;34m=\u001b[0m\u001b[0moverwrite_a\u001b[0m\u001b[0;34m)\u001b[0m\u001b[0;34m\u001b[0m\u001b[0;34m\u001b[0m\u001b[0m\n\u001b[0;32m--> 216\u001b[0;31m         \u001b[0m_solve_check\u001b[0m\u001b[0;34m(\u001b[0m\u001b[0mn\u001b[0m\u001b[0;34m,\u001b[0m \u001b[0minfo\u001b[0m\u001b[0;34m)\u001b[0m\u001b[0;34m\u001b[0m\u001b[0;34m\u001b[0m\u001b[0m\n\u001b[0m\u001b[1;32m    217\u001b[0m         x, info = getrs(lu, ipvt, b1,\n\u001b[1;32m    218\u001b[0m                         trans=trans, overwrite_b=overwrite_b)\n",
      "\u001b[0;32m/usr/local/lib64/python3.6/site-packages/scipy/linalg/basic.py\u001b[0m in \u001b[0;36m_solve_check\u001b[0;34m(n, info, lamch, rcond)\u001b[0m\n\u001b[1;32m     29\u001b[0m                          '.'.format(-info))\n\u001b[1;32m     30\u001b[0m     \u001b[0;32melif\u001b[0m \u001b[0;36m0\u001b[0m \u001b[0;34m<\u001b[0m \u001b[0minfo\u001b[0m\u001b[0;34m:\u001b[0m\u001b[0;34m\u001b[0m\u001b[0;34m\u001b[0m\u001b[0m\n\u001b[0;32m---> 31\u001b[0;31m         \u001b[0;32mraise\u001b[0m \u001b[0mLinAlgError\u001b[0m\u001b[0;34m(\u001b[0m\u001b[0;34m'Matrix is singular.'\u001b[0m\u001b[0;34m)\u001b[0m\u001b[0;34m\u001b[0m\u001b[0;34m\u001b[0m\u001b[0m\n\u001b[0m\u001b[1;32m     32\u001b[0m \u001b[0;34m\u001b[0m\u001b[0m\n\u001b[1;32m     33\u001b[0m     \u001b[0;32mif\u001b[0m \u001b[0mlamch\u001b[0m \u001b[0;32mis\u001b[0m \u001b[0;32mNone\u001b[0m\u001b[0;34m:\u001b[0m\u001b[0;34m\u001b[0m\u001b[0;34m\u001b[0m\u001b[0m\n",
      "\u001b[0;31mLinAlgError\u001b[0m: Matrix is singular."
     ]
    }
   ],
   "source": [
    "x = scipy.linalg.solve(A, b)"
   ]
  },
  {
   "cell_type": "markdown",
   "metadata": {
    "slideshow": {
     "slide_type": "slide"
    }
   },
   "source": [
    "# Оптимизация <a class=\"anchor\" id=\"optim\"></a>"
   ]
  },
  {
   "cell_type": "markdown",
   "metadata": {
    "collapsed": true,
    "slideshow": {
     "slide_type": "slide"
    }
   },
   "source": [
    "При помощи `scipy` можно решать различные задачи оптимизации. scipy предоставляет целый набор различных методов оптимизации."
   ]
  },
  {
   "cell_type": "code",
   "execution_count": 38,
   "metadata": {
    "slideshow": {
     "slide_type": "subslide"
    }
   },
   "outputs": [],
   "source": [
    "import scipy.optimize"
   ]
  },
  {
   "cell_type": "markdown",
   "metadata": {
    "slideshow": {
     "slide_type": "slide"
    }
   },
   "source": [
    "Положим нам дана некоторая функция:"
   ]
  },
  {
   "cell_type": "code",
   "execution_count": 39,
   "metadata": {
    "slideshow": {
     "slide_type": "slide"
    }
   },
   "outputs": [],
   "source": [
    "f = lambda x: x ** 2 + 10 * np.sin(x) + 4 * np.cos(x / 2.)"
   ]
  },
  {
   "cell_type": "code",
   "execution_count": 40,
   "metadata": {
    "slideshow": {
     "slide_type": "slide"
    }
   },
   "outputs": [
    {
     "data": {
      "image/png": "[encoded data removed]",
      "text/plain": [
       "<Figure size 432x288 with 1 Axes>"
      ]
     },
     "metadata": {
      "needs_background": "light"
     },
     "output_type": "display_data"
    }
   ],
   "source": [
    "x = np.arange(-10, 10, 0.1)\n",
    "plt.grid(True)\n",
    "plt.plot(x, f(x));"
   ]
  },
  {
   "cell_type": "markdown",
   "metadata": {
    "slideshow": {
     "slide_type": "slide"
    }
   },
   "source": [
    "Найдем миниум.  \n",
    "`Scipy` предоставляет общий способ нахождения минимума функции. Ему нужно передать саму функцию и **начальное приближение**, начиная с которого алгоритм будет искать минимум"
   ]
  },
  {
   "cell_type": "markdown",
   "metadata": {
    "slideshow": {
     "slide_type": "slide"
    }
   },
   "source": [
    "### Минимизация\n",
    "Алгоритм BFGS (алгоритм Бройдена — Флетчера — Гольдфарба — Шанно) — один из наиболее широко применяемых алгоритмов минимизации.  \n",
    "[Подробнее о BFGS](https://ru.wikipedia.org/wiki/%D0%90%D0%BB%D0%B3%D0%BE%D1%80%D0%B8%D1%82%D0%BC_%D0%91%D1%80%D0%BE%D0%B9%D0%B4%D0%B5%D0%BD%D0%B0_%E2%80%94_%D0%A4%D0%BB%D0%B5%D1%82%D1%87%D0%B5%D1%80%D0%B0_%E2%80%94_%D0%93%D0%BE%D0%BB%D1%8C%D0%B4%D1%84%D0%B0%D1%80%D0%B1%D0%B0_%E2%80%94_%D0%A8%D0%B0%D0%BD%D0%BD%D0%BE)"
   ]
  },
  {
   "cell_type": "markdown",
   "metadata": {
    "slideshow": {
     "slide_type": "slide"
    }
   },
   "source": [
    "Документация по [optimize.minimize](https://docs.scipy.org/doc/scipy/reference/generated/scipy.optimize.minimize.html#scipy.optimize.minimize)"
   ]
  },
  {
   "cell_type": "code",
   "execution_count": 41,
   "metadata": {
    "slideshow": {
     "slide_type": "slide"
    }
   },
   "outputs": [
    {
     "data": {
      "text/plain": [
       "      fun: 6.761126303089075\n",
       " hess_inv: array([[0.09781323]])\n",
       "      jac: array([2.38418579e-07])\n",
       "  message: 'Optimization terminated successfully.'\n",
       "     nfev: 27\n",
       "      nit: 4\n",
       "     njev: 9\n",
       "   status: 0\n",
       "  success: True\n",
       "        x: array([4.03513285])"
      ]
     },
     "execution_count": 41,
     "metadata": {},
     "output_type": "execute_result"
    }
   ],
   "source": [
    "# x0 - начальное приближение\n",
    "# method - алгоритм минимизации (по умолчанию BFGS)\n",
    "res_obj = scipy.optimize.minimize(f, x0=2, method='BFGS')\n",
    "res_obj"
   ]
  },
  {
   "cell_type": "code",
   "execution_count": 42,
   "metadata": {
    "slideshow": {
     "slide_type": "slide"
    }
   },
   "outputs": [
    {
     "name": "stdout",
     "output_type": "stream",
     "text": [
      "4.035132849327052\n"
     ]
    }
   ],
   "source": [
    "x_min = res_obj['x'][0]\n",
    "print(x_min)"
   ]
  },
  {
   "cell_type": "code",
   "execution_count": 43,
   "metadata": {
    "slideshow": {
     "slide_type": "slide"
    }
   },
   "outputs": [
    {
     "data": {
      "image/png": "[encoded data removed]",
      "text/plain": [
       "<Figure size 432x288 with 1 Axes>"
      ]
     },
     "metadata": {
      "needs_background": "light"
     },
     "output_type": "display_data"
    }
   ],
   "source": [
    "x = np.arange(-10, 10, 0.1)\n",
    "plt.grid(True)\n",
    "plt.plot(x, f(x));\n",
    "plt.plot(x_min, f(x_min), 'o', c='r', );"
   ]
  },
  {
   "cell_type": "markdown",
   "metadata": {
    "slideshow": {
     "slide_type": "slide"
    }
   },
   "source": [
    "Если выбрать неудачное начальное приближение, то возможно будет найден локальный, а не глобальный минимум"
   ]
  },
  {
   "cell_type": "code",
   "execution_count": 46,
   "metadata": {
    "slideshow": {
     "slide_type": "slide"
    }
   },
   "outputs": [
    {
     "data": {
      "image/png": "[encoded data removed]",
      "text/plain": [
       "<Figure size 432x288 with 1 Axes>"
      ]
     },
     "metadata": {
      "needs_background": "light"
     },
     "output_type": "display_data"
    }
   ],
   "source": [
    "x_min =  scipy.optimize.minimize(f, x0=-5, method='BFGS')['x'][0]\n",
    "x = np.arange(-10, 10, 0.1)\n",
    "plt.grid(True)\n",
    "plt.plot(x, f(x));\n",
    "plt.plot(x_min, f(x_min), 'o', c='r', );"
   ]
  },
  {
   "cell_type": "markdown",
   "metadata": {
    "slideshow": {
     "slide_type": "slide"
    }
   },
   "source": [
    "# Задача линейного программирования <a class=\"anchor\" id=\"linprog\"></a>\n",
    "\n",
    "Линейное программирование — математическая дисциплина, посвящённая теории и методам решения экстремальных задач на множествах  n-мерного векторного пространства, задаваемых системами линейных уравнений и неравенств."
   ]
  },
  {
   "cell_type": "markdown",
   "metadata": {
    "slideshow": {
     "slide_type": "slide"
    }
   },
   "source": [
    "**Пример**\n",
    "\n",
    "\n",
    "Колхоз имеет возможность приобрести не более 19 трехтонных автомашин и не более 17 пятитонных. Отпускная цена трехтонного грузовика - 4000 руб., пятитонного - 5000 руб. Колхоз может выделить для приобретения автомашин 141 тысяч рублей. Сколько нужно приобрести автомашин, чтобы их суммарная грузоподъемность была максимальной?\n",
    "\n",
    "Пусть x - число трёхтонных машин, y - число пятитонных машин.\n",
    "\n",
    "Тогда"
   ]
  },
  {
   "cell_type": "markdown",
   "metadata": {
    "slideshow": {
     "slide_type": "fragment"
    }
   },
   "source": [
    "\\begin{equation*}\n",
    "\\begin{array}{ll@{}ll}\n",
    "\\text{maximize}  & \\displaystyle 3x+5y &\\\\\n",
    "\\text{subject to}& \\displaystyle 0 \\leq x \\leq 19  \\\\\n",
    "                 & \\displaystyle 0 \\leq y \\leq 17  \\\\\n",
    "                 & \\displaystyle 4x+5y \\leq 141 \n",
    "\\end{array}\n",
    "\\end{equation*}"
   ]
  },
  {
   "cell_type": "code",
   "execution_count": 54,
   "metadata": {
    "slideshow": {
     "slide_type": "fragment"
    }
   },
   "outputs": [
    {
     "data": {
      "text/plain": [
       "     fun: -127.0\n",
       " message: 'Optimization terminated successfully.'\n",
       "     nit: 2\n",
       "   slack: array([ 5.,  0.,  0.])\n",
       "  status: 0\n",
       " success: True\n",
       "       x: array([ 14.,  17.])"
      ]
     },
     "execution_count": 54,
     "metadata": {},
     "output_type": "execute_result"
    }
   ],
   "source": [
    "c = [-3, -5]\n",
    "\n",
    "A_ub = [\n",
    "    [1, 0],\n",
    "    [0, 1],\n",
    "    [4, 5]\n",
    "]\n",
    "\n",
    "b_ub = [\n",
    "    19,\n",
    "    17,\n",
    "    141\n",
    "]\n",
    "\n",
    "scipy.optimize.linprog(c=c, A_ub=A_ub, b_ub=b_ub)"
   ]
  },
  {
   "cell_type": "markdown",
   "metadata": {
    "slideshow": {
     "slide_type": "slide"
    }
   },
   "source": [
    "# Задание <a class=\"anchor\" id=\"task\"></a>\n",
    "\n",
    "Получить решение нелинейной задачи оптимизации\n",
    "\n",
    "\\begin{equation*}\n",
    "\\begin{array}{ll@{}ll}\n",
    "\\text{minimize}  & \\displaystyle x_1 x_4 (x_1 + x_2 + x_3) + x_3 &\\\\\n",
    "\\text{subject to}& \\displaystyle x_1 x_2 x_3 x_4 \\geq 25 \\\\\n",
    "                 & \\displaystyle x_1^2 + x_2^2 + x_3^2 + x_4^2 = 40 \\\\\n",
    "                 & \\displaystyle 1 \\leq x_1, x_2, x_3, x_4 \\leq 5  \\\\\n",
    "                 & \\displaystyle x_{start} = (1, 5, 5, 1)  \\\\\n",
    "\\end{array}\n",
    "\\end{equation*}\n",
    "\n",
    "\n",
    "Подсказка https://docs.scipy.org/doc/scipy/reference/generated/scipy.optimize.minimize.html\n"
   ]
  },
  {
   "cell_type": "code",
   "execution_count": 57,
   "metadata": {
    "slideshow": {
     "slide_type": "skip"
    }
   },
   "outputs": [],
   "source": [
    "from scipy.optimize import minimize, NonlinearConstraint"
   ]
  },
  {
   "cell_type": "code",
   "execution_count": 77,
   "metadata": {
    "slideshow": {
     "slide_type": "skip"
    }
   },
   "outputs": [],
   "source": [
    "objective = lambda x: x[0] * x[3] * (x[0] + x[1] + x[2]) + x[2]\n",
    "\n",
    "cons =(\n",
    "    {'type': 'ineq', 'fun': lambda x: x[0] * x[1] * x[2] * x[3] - 25},\n",
    "    {'type': 'eq', 'fun': lambda x: (x[0]**2) + (x[1]**2) + (x[2]**2) + (x[3]**2) -40}\n",
    "    \n",
    ")\n",
    "\n",
    "bnds = ((1, 5),(1, 5),(1, 5),(1, 5))\n",
    "x0 = (1,5,5,1)"
   ]
  },
  {
   "cell_type": "code",
   "execution_count": 78,
   "metadata": {
    "slideshow": {
     "slide_type": "skip"
    }
   },
   "outputs": [],
   "source": [
    "res_obj = scipy.optimize.minimize(objective, \n",
    "                                  x0=x0, \n",
    "                                  method='SLSQP',\n",
    "                                  bounds=bnds,\n",
    "                                  constraints=cons)"
   ]
  },
  {
   "cell_type": "code",
   "execution_count": 79,
   "metadata": {
    "slideshow": {
     "slide_type": "skip"
    }
   },
   "outputs": [
    {
     "name": "stdout",
     "output_type": "stream",
     "text": [
      "Решение отправлено на проверку\n",
      "Начало тест кейса, получаем данные...\n",
      "Test Case пройден\n"
     ]
    },
    {
     "data": {
      "text/plain": [
       "     fun: 17.01401724556073\n",
       "     jac: array([14.57227039,  1.37940764,  2.37940764,  9.56415081])\n",
       " message: 'Optimization terminated successfully.'\n",
       "    nfev: 30\n",
       "     nit: 5\n",
       "    njev: 5\n",
       "  status: 0\n",
       " success: True\n",
       "       x: array([1.        , 4.74299607, 3.82115466, 1.37940764])"
      ]
     },
     "execution_count": 79,
     "metadata": {},
     "output_type": "execute_result"
    }
   ],
   "source": [
    "testcase.sendAssert(part='1', task='6', val=res_obj.fun, base = 17.01, clouse = \">=\")\n",
    "res_obj"
   ]
  },
  {
   "cell_type": "code",
   "execution_count": null,
   "metadata": {
    "collapsed": true,
    "slideshow": {
     "slide_type": "skip"
    }
   },
   "outputs": [],
   "source": []
  }
 ],
 "metadata": {
  "celltoolbar": "Raw Cell Format",
  "kernelspec": {
   "display_name": "Python 3",
   "language": "python",
   "name": "python3"
  },
  "language_info": {
   "codemirror_mode": {
    "name": "ipython",
    "version": 3
   },
   "file_extension": ".py",
   "mimetype": "text/x-python",
   "name": "python",
   "nbconvert_exporter": "python",
   "pygments_lexer": "ipython3",
   "version": "3.6.8"
  }
 },
 "nbformat": 4,
 "nbformat_minor": 2
}
